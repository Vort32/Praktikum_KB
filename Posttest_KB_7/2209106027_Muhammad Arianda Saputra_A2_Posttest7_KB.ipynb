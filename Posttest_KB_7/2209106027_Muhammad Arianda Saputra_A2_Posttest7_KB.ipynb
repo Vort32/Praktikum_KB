{
 "cells": [
  {
   "cell_type": "markdown",
   "metadata": {},
   "source": [
    "# **LIBRARY YANG DIGUNAKAN**"
   ]
  },
  {
   "cell_type": "code",
   "execution_count": 44,
   "metadata": {},
   "outputs": [],
   "source": [
    "import tensorflow as tf\n",
    "from tensorflow.keras.preprocessing.image import ImageDataGenerator\n",
    "import matplotlib.pyplot as plt\n",
    "import os\n",
    "from sklearn.model_selection import train_test_split\n",
    "from tensorflow.keras.callbacks import EarlyStopping, ModelCheckpoint"
   ]
  },
  {
   "cell_type": "markdown",
   "metadata": {},
   "source": [
    "### **LINK DATASET** : https://www.kaggle.com/datasets/antoreepjana/military-tanks-dataset-images"
   ]
  },
  {
   "cell_type": "markdown",
   "metadata": {},
   "source": [
    "# **MEMUAT DATASET**"
   ]
  },
  {
   "cell_type": "code",
   "execution_count": 45,
   "metadata": {},
   "outputs": [
    {
     "data": {
      "text/plain": [
       "['type_98', 'vickers_mk4', 'vt2', 'zulfiqar_1']"
      ]
     },
     "execution_count": 45,
     "metadata": {},
     "output_type": "execute_result"
    }
   ],
   "source": [
    "img_path = r\"C:\\Users\\M. ARIANDA SAPUTRA\\Documents\\4A Games\\Posttest_KB_7\\images\"\n",
    "os.listdir(img_path)"
   ]
  },
  {
   "cell_type": "markdown",
   "metadata": {},
   "source": [
    "# **SPLIT DATASET**"
   ]
  },
  {
   "cell_type": "code",
   "execution_count": 46,
   "metadata": {},
   "outputs": [],
   "source": [
    "from sklearn.model_selection import train_test_split\n",
    "import os\n",
    "import shutil"
   ]
  },
  {
   "cell_type": "code",
   "execution_count": 47,
   "metadata": {},
   "outputs": [],
   "source": [
    "from sklearn.model_selection import train_test_split\n",
    "import os\n",
    "import shutil\n",
    "\n",
    "# Tentukan rasio pembagian dataset\n",
    "train_ratio = 0.7  # 70% data train\n",
    "test_ratio = 0.15  # 15% data test\n",
    "val_ratio = 0.15   # 15% data validation\n",
    "\n",
    "# Direktori sumber dataset\n",
    "source_data_dir = r\"C:\\Users\\M. ARIANDA SAPUTRA\\Documents\\4A Games\\Posttest_KB_7\\images\"\n",
    "\n",
    "# Direktori target untuk data train, test, dan validation\n",
    "train_dir = r'C:/Users/M. ARIANDA SAPUTRA/Documents/4A Games/Posttest_KB_7/train'\n",
    "test_dir = r'C:/Users/M. ARIANDA SAPUTRA/Documents/4A Games/Posttest_KB_7/test'\n",
    "val_dir = r'C:/Users/M. ARIANDA SAPUTRA/Documents/4A Games/Posttest_KB_7/validation'\n",
    "\n",
    "# Buat direktori target jika belum ada\n",
    "if not os.path.exists(train_dir):\n",
    "    os.makedirs(train_dir)\n",
    "if not os.path.exists(test_dir):\n",
    "    os.makedirs(test_dir)\n",
    "if not os.path.exists(val_dir):\n",
    "    os.makedirs(val_dir)\n",
    "\n",
    "# List semua file dalam direktori sumber dataset\n",
    "file_list = os.listdir(source_data_dir)\n",
    "\n",
    "# Bagi dataset menjadi train, test, dan validation\n",
    "train_files, test_val_files = train_test_split(file_list, test_size=(test_ratio + val_ratio), random_state=42)\n",
    "test_files, val_files = train_test_split(test_val_files, test_size=(val_ratio / (test_ratio + val_ratio)), random_state=42)\n",
    "\n",
    "# Pindahkan file ke direktori target untuk masing-masing set\n",
    "def move_files(source_files, target_dir):\n",
    "    for fname in source_files:\n",
    "        source_path = os.path.join(source_data_dir, fname)\n",
    "        target_path = os.path.join(target_dir, fname)\n",
    "        shutil.move(source_path, target_path)\n",
    "\n",
    "move_files(train_files, train_dir)\n",
    "move_files(test_files, test_dir)\n",
    "move_files(val_files, val_dir)\n"
   ]
  },
  {
   "cell_type": "markdown",
   "metadata": {},
   "source": [
    "# **AUGMENTASI DATA**"
   ]
  },
  {
   "cell_type": "code",
   "execution_count": 48,
   "metadata": {},
   "outputs": [
    {
     "name": "stdout",
     "output_type": "stream",
     "text": [
      "Found 12 images belonging to 2 classes.\n",
      "Found 3 images belonging to 1 classes.\n",
      "Found 10 images belonging to 1 classes.\n"
     ]
    }
   ],
   "source": [
    "from tensorflow.keras.preprocessing.image import ImageDataGenerator\n",
    "\n",
    "# Dimensi gambar\n",
    "img_width, img_height = 150, 150 \n",
    "\n",
    "# Jumlah batch yang digunakan dalam pelatihan dan validasi\n",
    "batch_size = 32\n",
    "\n",
    "# Tentukan parameter augmentasi yang Anda inginkan\n",
    "datagen = ImageDataGenerator(\n",
    "    rescale=1.0 / 255,  # Skala nilai piksel ke [0, 1]\n",
    "    rotation_range=20,  # Rentang rotasi gambar\n",
    "    width_shift_range=0.2,  # Rentang pergeseran horizontal\n",
    "    height_shift_range=0.2,  # Rentang pergeseran vertikal\n",
    "    shear_range=0.2,  # Rentang pemotongan\n",
    "    zoom_range=0.2,  # Rentang zoom\n",
    "    horizontal_flip=True,  # Flip horizontal\n",
    "    fill_mode='nearest'  # Mode pengisian piksel yang hilang\n",
    ")\n",
    "\n",
    "# Buat generator data untuk setiap bagian dataset (train, test, validation)\n",
    "train_generator = datagen.flow_from_directory(\n",
    "    train_dir,\n",
    "    target_size=(img_width, img_height),\n",
    "    batch_size=batch_size,\n",
    "    class_mode='categorical'\n",
    ")\n",
    "\n",
    "test_generator = datagen.flow_from_directory(\n",
    "    test_dir,\n",
    "    target_size=(img_width, img_height),\n",
    "    batch_size=batch_size,\n",
    "    class_mode='categorical'\n",
    ")\n",
    "\n",
    "validation_generator = datagen.flow_from_directory(\n",
    "    val_dir,\n",
    "    target_size=(img_width, img_height),\n",
    "    batch_size=batch_size,\n",
    "    class_mode='categorical'\n",
    ")\n"
   ]
  },
  {
   "cell_type": "markdown",
   "metadata": {},
   "source": [
    "# **ARSITEKTUR MODEL**"
   ]
  },
  {
   "cell_type": "code",
   "execution_count": 49,
   "metadata": {},
   "outputs": [],
   "source": [
    "from tensorflow.keras.models import Sequential\n",
    "from tensorflow.keras.layers import Conv2D, MaxPooling2D\n",
    "from tensorflow.keras.layers import Activation, Dropout, Flatten, Dense"
   ]
  },
  {
   "cell_type": "code",
   "execution_count": 50,
   "metadata": {},
   "outputs": [],
   "source": [
    "model = tf.keras.Sequential([\n",
    "    tf.keras.layers.Conv2D(128, (3,3), activation='relu', input_shape=(img_width,img_height,3)),\n",
    "    tf.keras.layers.MaxPool2D((2,2)),\n",
    "    tf.keras.layers.Conv2D(64, (3,3), activation='relu'),\n",
    "    tf.keras.layers.MaxPool2D((2,2)),\n",
    "    \n",
    "    tf.keras.layers.Flatten(),\n",
    "    tf.keras.layers.Dense(128,activation=\"relu\"),\n",
    "    tf.keras.layers.Dense(2,activation=\"softmax\")\n",
    "])"
   ]
  },
  {
   "cell_type": "code",
   "execution_count": 73,
   "metadata": {},
   "outputs": [],
   "source": [
    "from keras.callbacks import EarlyStopping, ModelCheckpoint\n",
    "early_stopping = EarlyStopping(monitor='val_loss', patience=20, restore_best_weights=True)\n",
    "model_checkpoint = ModelCheckpoint('best_model.h5', save_best_only=True, save_weights_only=True)\n",
    "callback_list = [early_stopping, model_checkpoint]"
   ]
  },
  {
   "cell_type": "markdown",
   "metadata": {},
   "source": [
    "- **MENGKOMPILE MODEL**"
   ]
  },
  {
   "cell_type": "code",
   "execution_count": 74,
   "metadata": {},
   "outputs": [],
   "source": [
    "model.compile(optimizer='adam',\n",
    "                loss='categorical_crossentropy',\n",
    "                metrics=['accuracy'])     "
   ]
  },
  {
   "cell_type": "markdown",
   "metadata": {},
   "source": [
    "- **PELATIHAN MODEL**"
   ]
  },
  {
   "cell_type": "code",
   "execution_count": 75,
   "metadata": {},
   "outputs": [
    {
     "name": "stdout",
     "output_type": "stream",
     "text": [
      "Epoch 1/10\n",
      "1/1 [==============================] - 2s 2s/step - loss: 0.2226 - accuracy: 0.8333 - val_loss: 4.9506 - val_accuracy: 1.0000\n",
      "Epoch 2/10\n",
      "1/1 [==============================] - 1s 1s/step - loss: 0.2482 - accuracy: 0.7500 - val_loss: 1.7398 - val_accuracy: 0.5000\n",
      "Epoch 3/10\n",
      "1/1 [==============================] - 1s 868ms/step - loss: 0.4093 - accuracy: 1.0000 - val_loss: 3.4554 - val_accuracy: 0.8000\n",
      "Epoch 4/10\n",
      "1/1 [==============================] - 1s 939ms/step - loss: 0.3168 - accuracy: 0.8333 - val_loss: 4.8587 - val_accuracy: 1.0000\n",
      "Epoch 5/10\n",
      "1/1 [==============================] - 1s 854ms/step - loss: 0.3991 - accuracy: 0.7500 - val_loss: 4.1722 - val_accuracy: 1.0000\n",
      "Epoch 6/10\n",
      "1/1 [==============================] - 1s 910ms/step - loss: 0.2583 - accuracy: 0.7500 - val_loss: 3.9836 - val_accuracy: 1.0000\n",
      "Epoch 7/10\n",
      "1/1 [==============================] - 1s 945ms/step - loss: 0.2361 - accuracy: 0.8333 - val_loss: 4.3662 - val_accuracy: 1.0000\n",
      "Epoch 8/10\n",
      "1/1 [==============================] - 1s 856ms/step - loss: 0.2304 - accuracy: 0.9167 - val_loss: 4.5039 - val_accuracy: 1.0000\n",
      "Epoch 9/10\n",
      "1/1 [==============================] - 1s 937ms/step - loss: 0.2111 - accuracy: 0.9167 - val_loss: 6.0139 - val_accuracy: 1.0000\n",
      "Epoch 10/10\n",
      "1/1 [==============================] - 1s 857ms/step - loss: 0.2215 - accuracy: 0.8333 - val_loss: 5.0022 - val_accuracy: 1.0000\n"
     ]
    }
   ],
   "source": [
    "history = model.fit(train_generator,\n",
    "                validation_data = validation_generator,\n",
    "                epochs=10,\n",
    "                callbacks=callback_list ,\n",
    "                )"
   ]
  },
  {
   "cell_type": "markdown",
   "metadata": {},
   "source": [
    "# **EVALUASI MODEL**"
   ]
  },
  {
   "cell_type": "code",
   "execution_count": 78,
   "metadata": {},
   "outputs": [
    {
     "name": "stdout",
     "output_type": "stream",
     "text": [
      "1/1 [==============================] - 0s 137ms/step - loss: 1.4669 - accuracy: 1.0000\n",
      "Test Loss: 1.4669255018234253\n",
      "Test Accuracy: 1.0\n"
     ]
    }
   ],
   "source": [
    "# Evaluasi model terhadap data tes\n",
    "test_loss, test_accuracy = model.evaluate(test_generator)\n",
    "\n",
    "# Cetak hasil evaluasi\n",
    "print(\"Test Loss:\", test_loss)\n",
    "print(\"Test Accuracy:\", test_accuracy)"
   ]
  },
  {
   "cell_type": "markdown",
   "metadata": {},
   "source": [
    "# **MEMBUAT GRAFIK UNTUK MENAMPILKAN PERGERAKAN METRIK**"
   ]
  },
  {
   "cell_type": "code",
   "execution_count": 80,
   "metadata": {},
   "outputs": [
    {
     "data": {
      "image/png": "[encoded data removed]",
      "text/plain": [
       "<Figure size 1000x500 with 2 Axes>"
      ]
     },
     "metadata": {},
     "output_type": "display_data"
    }
   ],
   "source": [
    "acc = history.history['accuracy']\n",
    "val_acc = history.history['val_accuracy']\n",
    "loss = history.history['loss']\n",
    "val_loss = history.history['val_loss']\n",
    "\n",
    "epochs = range(len(acc))\n",
    "\n",
    "plt.figure(figsize=(10, 5))\n",
    "plt.subplot(1, 2, 1)\n",
    "plt.plot(epochs, acc, 'r', label='Training accuracy')\n",
    "plt.plot(epochs, val_acc, 'b', label='Validation accuracy')\n",
    "plt.title('Training and validation accuracy')\n",
    "plt.legend()\n",
    "\n",
    "plt.subplot(1, 2, 2)\n",
    "plt.plot(epochs, loss, 'r', label='Training loss')\n",
    "plt.plot(epochs, val_loss, 'b', label='Validation loss')\n",
    "plt.title('Training and validation loss')\n",
    "plt.legend()\n",
    "plt.show()\n"
   ]
  }
 ],
 "metadata": {
  "kernelspec": {
   "display_name": "Python 3",
   "language": "python",
   "name": "python3"
  },
  "language_info": {
   "codemirror_mode": {
    "name": "ipython",
    "version": 3
   },
   "file_extension": ".py",
   "mimetype": "text/x-python",
   "name": "python",
   "nbconvert_exporter": "python",
   "pygments_lexer": "ipython3",
   "version": "3.10.7"
  }
 },
 "nbformat": 4,
 "nbformat_minor": 2
}
