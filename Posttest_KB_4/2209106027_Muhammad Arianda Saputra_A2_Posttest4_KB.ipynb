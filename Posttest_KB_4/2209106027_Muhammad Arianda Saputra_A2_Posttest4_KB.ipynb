{
 "cells": [
  {
   "cell_type": "code",
   "execution_count": 1,
   "metadata": {},
   "outputs": [],
   "source": [
    "import pandas as pd\n",
    "import numpy as np"
   ]
  },
  {
   "cell_type": "code",
   "execution_count": 2,
   "metadata": {},
   "outputs": [],
   "source": [
    "df = pd.read_csv(\"AQI and Lat Long of Countries.csv\")"
   ]
  },
  {
   "cell_type": "markdown",
   "metadata": {},
   "source": [
    "## ****DATA SPLIT****\n",
    "\n",
    "#### Pembagian dataset dengan training set (70%) dan Testing set (30%)"
   ]
  },
  {
   "cell_type": "code",
   "execution_count": 3,
   "metadata": {},
   "outputs": [],
   "source": [
    "from sklearn.model_selection import train_test_split"
   ]
  },
  {
   "cell_type": "code",
   "execution_count": 4,
   "metadata": {},
   "outputs": [],
   "source": [
    "x = df.drop('AQI Category', axis=1)\n",
    "y = df['AQI Category']\n",
    "\n",
    "x_train, x_test, y_train, y_test = train_test_split(x, y, test_size=20)"
   ]
  },
  {
   "cell_type": "code",
   "execution_count": 5,
   "metadata": {},
   "outputs": [
    {
     "name": "stdout",
     "output_type": "stream",
     "text": [
      "Dimensi x_train =  (16675, 13)\n",
      "Dimensi x_test =  (20, 13)\n",
      "Dimensi y_train =  (16675,)\n",
      "Dimensi y_test =  (20,)\n"
     ]
    }
   ],
   "source": [
    "print(\"Dimensi x_train = \", x_train.shape)\n",
    "print(\"Dimensi x_test = \", x_test.shape)\n",
    "print(\"Dimensi y_train = \", y_train.shape)\n",
    "print(\"Dimensi y_test = \", y_test.shape)"
   ]
  },
  {
   "cell_type": "markdown",
   "metadata": {},
   "source": [
    "## ****NORMALISASI****\n",
    "\n",
    "#### Fungsi **MinMaxScaler** Digunakan Untuk Melakukan Normalisasi"
   ]
  },
  {
   "cell_type": "code",
   "execution_count": 6,
   "metadata": {},
   "outputs": [],
   "source": [
    "from sklearn.preprocessing import MinMaxScaler"
   ]
  },
  {
   "cell_type": "markdown",
   "metadata": {},
   "source": [
    "##### Disini Saya Melakukan Normalisasi Pada Kolom **AQI Value**"
   ]
  },
  {
   "cell_type": "code",
   "execution_count": 7,
   "metadata": {},
   "outputs": [],
   "source": [
    "df_1 = df.copy()\n",
    "\n",
    "scaler = MinMaxScaler()\n",
    "\n",
    "scaled_data = scaler.fit_transform(df_1[['AQI Value']])\n",
    "df_1['AQI Value'] = scaled_data"
   ]
  },
  {
   "cell_type": "markdown",
   "metadata": {},
   "source": [
    "##### **Hasil Normalisasi**"
   ]
  },
  {
   "cell_type": "code",
   "execution_count": 8,
   "metadata": {},
   "outputs": [
    {
     "name": "stdout",
     "output_type": "stream",
     "text": [
      "Sebelum : \n",
      "count    16695.000000\n",
      "mean        62.998682\n",
      "std         43.091971\n",
      "min          7.000000\n",
      "25%         38.500000\n",
      "50%         52.000000\n",
      "75%         69.000000\n",
      "max        500.000000\n",
      "Name: AQI Value, dtype: float64\n",
      "\n",
      " \n",
      "\n",
      "Sesudah : \n",
      "count    16695.000000\n",
      "mean         0.113588\n",
      "std          0.087408\n",
      "min          0.000000\n",
      "25%          0.063895\n",
      "50%          0.091278\n",
      "75%          0.125761\n",
      "max          1.000000\n",
      "Name: AQI Value, dtype: float64\n"
     ]
    }
   ],
   "source": [
    "print(\"Sebelum : \")\n",
    "print(df['AQI Value'].describe())\n",
    "print('\\n', '\\n')\n",
    "print(\"Sesudah : \")\n",
    "print(df_1['AQI Value'].describe())"
   ]
  },
  {
   "cell_type": "markdown",
   "metadata": {},
   "source": [
    "## ****STANDARISASI****\n",
    "\n",
    "#### Fungsi **StandardScaler** Digunakan Untuk Melakukan Standarisasi"
   ]
  },
  {
   "cell_type": "code",
   "execution_count": 9,
   "metadata": {},
   "outputs": [],
   "source": [
    "from sklearn.preprocessing import StandardScaler"
   ]
  },
  {
   "cell_type": "markdown",
   "metadata": {},
   "source": [
    "##### Disini Saya Melakukan Standarisasi Pada Kolom **AQI Value**"
   ]
  },
  {
   "cell_type": "code",
   "execution_count": 10,
   "metadata": {},
   "outputs": [],
   "source": [
    "df_2 = df.copy()\n",
    "\n",
    "scaler = StandardScaler()\n",
    "\n",
    "scaled_data = scaler.fit_transform(df_2[['AQI Value']])\n",
    "df_2['AQI Value'] = scaled_data"
   ]
  },
  {
   "cell_type": "markdown",
   "metadata": {},
   "source": [
    "##### **Hasil Standarisasi**"
   ]
  },
  {
   "cell_type": "code",
   "execution_count": 11,
   "metadata": {},
   "outputs": [
    {
     "name": "stdout",
     "output_type": "stream",
     "text": [
      "Sebelum : \n",
      "43.090680046373095\n",
      "\n",
      "\n",
      "Sesudah : \n",
      "1.0000000000000002\n"
     ]
    }
   ],
   "source": [
    "print(\"Sebelum : \")\n",
    "print(np.std(df['AQI Value']))\n",
    "print('\\n')\n",
    "print(\"Sesudah : \")\n",
    "print(np.std(df_2['AQI Value']))"
   ]
  },
  {
   "cell_type": "markdown",
   "metadata": {},
   "source": [
    "## ****MENANGANI NILAI NULL****"
   ]
  },
  {
   "cell_type": "code",
   "execution_count": 12,
   "metadata": {},
   "outputs": [],
   "source": [
    "df_NotNull = df.copy()"
   ]
  },
  {
   "cell_type": "markdown",
   "metadata": {},
   "source": [
    "#### Membuat Kolom **NO2 AQI Value** Menjadi Nilai Null ***(Int)***"
   ]
  },
  {
   "cell_type": "code",
   "execution_count": 13,
   "metadata": {},
   "outputs": [
    {
     "name": "stdout",
     "output_type": "stream",
     "text": [
      "Nilai Null Pada Kolom   : \n",
      "4695\n"
     ]
    }
   ],
   "source": [
    "df_NotNull.loc[12000:, 'PM2.5 AQI Value'] = np.nan\n",
    "df.loc[12000:, 'PM2.5 AQI Value'] = np.nan\n",
    "\n",
    "print(\"Nilai Null Pada Kolom   : \")\n",
    "print(df_NotNull['PM2.5 AQI Value'].isna().sum())"
   ]
  },
  {
   "cell_type": "markdown",
   "metadata": {},
   "source": [
    "#### Menangani Nilai Null Pada Kolom **PM2.5 AQI Value** Bertipe ***INT*** Dengan Strategy ***MEDIAN***"
   ]
  },
  {
   "cell_type": "code",
   "execution_count": 14,
   "metadata": {},
   "outputs": [],
   "source": [
    "df_NotNull[\"PM2.5 AQI Value\"].fillna(df_NotNull[\"PM2.5 AQI Value\"].median(), inplace= True)"
   ]
  },
  {
   "cell_type": "markdown",
   "metadata": {},
   "source": [
    "#### Menangani Nilai Null Pada Kolom **Country** Bertipe ***OBJECT*** Dengan Strategy ***MODUS***"
   ]
  },
  {
   "cell_type": "code",
   "execution_count": 15,
   "metadata": {},
   "outputs": [],
   "source": [
    "df_NotNull[\"Country\"].fillna(df_NotNull[\"Country\"].mode()[0], inplace= True)"
   ]
  },
  {
   "cell_type": "markdown",
   "metadata": {},
   "source": [
    "##### Memperlihatkan Nilai Null dan tidak Null"
   ]
  },
  {
   "cell_type": "markdown",
   "metadata": {},
   "source": [
    "###### **BERNILAI NULL**"
   ]
  },
  {
   "cell_type": "code",
   "execution_count": 16,
   "metadata": {},
   "outputs": [
    {
     "data": {
      "text/plain": [
       "Country                302\n",
       "City                     0\n",
       "AQI Value                0\n",
       "AQI Category             0\n",
       "CO AQI Value             0\n",
       "CO AQI Category          0\n",
       "Ozone AQI Value          0\n",
       "Ozone AQI Category       0\n",
       "NO2 AQI Value            0\n",
       "NO2 AQI Category         0\n",
       "PM2.5 AQI Value       4695\n",
       "PM2.5 AQI Category       0\n",
       "lat                      0\n",
       "lng                      0\n",
       "dtype: int64"
      ]
     },
     "execution_count": 16,
     "metadata": {},
     "output_type": "execute_result"
    }
   ],
   "source": [
    "df.isna().sum()"
   ]
  },
  {
   "cell_type": "markdown",
   "metadata": {},
   "source": [
    "###### **TIDAK BERNILAI NULL**"
   ]
  },
  {
   "cell_type": "code",
   "execution_count": 17,
   "metadata": {},
   "outputs": [
    {
     "data": {
      "text/plain": [
       "Country               0\n",
       "City                  0\n",
       "AQI Value             0\n",
       "AQI Category          0\n",
       "CO AQI Value          0\n",
       "CO AQI Category       0\n",
       "Ozone AQI Value       0\n",
       "Ozone AQI Category    0\n",
       "NO2 AQI Value         0\n",
       "NO2 AQI Category      0\n",
       "PM2.5 AQI Value       0\n",
       "PM2.5 AQI Category    0\n",
       "lat                   0\n",
       "lng                   0\n",
       "dtype: int64"
      ]
     },
     "execution_count": 17,
     "metadata": {},
     "output_type": "execute_result"
    }
   ],
   "source": [
    "df_NotNull.isna().sum()"
   ]
  },
  {
   "cell_type": "markdown",
   "metadata": {},
   "source": [
    "## ****MENANGANI NILAI DUPLIKAT****"
   ]
  },
  {
   "cell_type": "markdown",
   "metadata": {},
   "source": [
    "##### Kita cek apakah ada nilai duplikat"
   ]
  },
  {
   "cell_type": "code",
   "execution_count": 18,
   "metadata": {},
   "outputs": [
    {
     "name": "stdout",
     "output_type": "stream",
     "text": [
      "Nilai Duplikat: \n"
     ]
    },
    {
     "data": {
      "text/plain": [
       "0"
      ]
     },
     "execution_count": 18,
     "metadata": {},
     "output_type": "execute_result"
    }
   ],
   "source": [
    "print(\"Nilai Duplikat: \")\n",
    "df.duplicated().sum()"
   ]
  },
  {
   "cell_type": "markdown",
   "metadata": {},
   "source": [
    "##### karena tidak ada nilai duplikat, kita buat ada nilai duplikat"
   ]
  },
  {
   "cell_type": "code",
   "execution_count": 27,
   "metadata": {},
   "outputs": [
    {
     "name": "stdout",
     "output_type": "stream",
     "text": [
      "Nilai duplikat : \n"
     ]
    },
    {
     "data": {
      "text/plain": [
       "2"
      ]
     },
     "execution_count": 27,
     "metadata": {},
     "output_type": "execute_result"
    }
   ],
   "source": [
    "df_NotNull.iloc[1000 ,:] = df_NotNull.iloc[12000,:]\n",
    "\n",
    "print(\"Nilai duplikat : \")\n",
    "df_NotNull.duplicated().sum()"
   ]
  },
  {
   "cell_type": "markdown",
   "metadata": {},
   "source": [
    "##### terus mengatasi nilai duplikat tersebut"
   ]
  },
  {
   "cell_type": "code",
   "execution_count": 28,
   "metadata": {},
   "outputs": [
    {
     "name": "stdout",
     "output_type": "stream",
     "text": [
      "Nilai duplikat : \n"
     ]
    },
    {
     "data": {
      "text/plain": [
       "0"
      ]
     },
     "execution_count": 28,
     "metadata": {},
     "output_type": "execute_result"
    }
   ],
   "source": [
    "df_NotNull.drop_duplicates(inplace=True)\n",
    "\n",
    "print(\"Nilai duplikat : \")\n",
    "df_NotNull.duplicated().sum()"
   ]
  },
  {
   "cell_type": "markdown",
   "metadata": {},
   "source": [
    "### ****MENGGANTI TIPE DATA SALAH SATU ATRIBUT BERTIPE ANGKA****"
   ]
  },
  {
   "cell_type": "markdown",
   "metadata": {},
   "source": [
    "##### Melihat Atribut Bertipe Angka Disini Saya Akan Mengambil Atribut ***AQI Value*** "
   ]
  },
  {
   "cell_type": "code",
   "execution_count": 21,
   "metadata": {},
   "outputs": [
    {
     "name": "stdout",
     "output_type": "stream",
     "text": [
      "<class 'pandas.core.frame.DataFrame'>\n",
      "RangeIndex: 16695 entries, 0 to 16694\n",
      "Data columns (total 14 columns):\n",
      " #   Column              Non-Null Count  Dtype  \n",
      "---  ------              --------------  -----  \n",
      " 0   Country             16393 non-null  object \n",
      " 1   City                16695 non-null  object \n",
      " 2   AQI Value           16695 non-null  int64  \n",
      " 3   AQI Category        16695 non-null  object \n",
      " 4   CO AQI Value        16695 non-null  int64  \n",
      " 5   CO AQI Category     16695 non-null  object \n",
      " 6   Ozone AQI Value     16695 non-null  int64  \n",
      " 7   Ozone AQI Category  16695 non-null  object \n",
      " 8   NO2 AQI Value       16695 non-null  int64  \n",
      " 9   NO2 AQI Category    16695 non-null  object \n",
      " 10  PM2.5 AQI Value     12000 non-null  float64\n",
      " 11  PM2.5 AQI Category  16695 non-null  object \n",
      " 12  lat                 16695 non-null  float64\n",
      " 13  lng                 16695 non-null  float64\n",
      "dtypes: float64(3), int64(4), object(7)\n",
      "memory usage: 1.8+ MB\n"
     ]
    }
   ],
   "source": [
    "df.info()"
   ]
  },
  {
   "cell_type": "markdown",
   "metadata": {},
   "source": [
    "**SEBELUM**"
   ]
  },
  {
   "cell_type": "code",
   "execution_count": 22,
   "metadata": {},
   "outputs": [
    {
     "data": {
      "text/plain": [
       "dtype('int64')"
      ]
     },
     "execution_count": 22,
     "metadata": {},
     "output_type": "execute_result"
    }
   ],
   "source": [
    "df_NotNull[\"AQI Value\"].dtypes"
   ]
  },
  {
   "cell_type": "markdown",
   "metadata": {},
   "source": [
    "**SESUDAH**"
   ]
  },
  {
   "cell_type": "code",
   "execution_count": 23,
   "metadata": {},
   "outputs": [
    {
     "data": {
      "text/plain": [
       "dtype('float64')"
      ]
     },
     "execution_count": 23,
     "metadata": {},
     "output_type": "execute_result"
    }
   ],
   "source": [
    "df_NotNull[\"AQI Value\"] = df_NotNull[\"AQI Value\"].astype(float)\n",
    "\n",
    "df_NotNull[\"AQI Value\"].dtypes"
   ]
  },
  {
   "cell_type": "markdown",
   "metadata": {},
   "source": [
    "# ****MELAKUKAN ONE HOT ENCODING****"
   ]
  },
  {
   "cell_type": "code",
   "execution_count": 24,
   "metadata": {},
   "outputs": [],
   "source": [
    "Hot = pd.get_dummies(df[[\"City\"]])\n",
    "df_Hot = df.join(Hot)"
   ]
  },
  {
   "cell_type": "markdown",
   "metadata": {},
   "source": [
    "**Menampilkan Hasil One Hot Encoding**"
   ]
  },
  {
   "cell_type": "code",
   "execution_count": 25,
   "metadata": {},
   "outputs": [
    {
     "data": {
      "text/html": [
       "<div>\n",
       "<style scoped>\n",
       "    .dataframe tbody tr th:only-of-type {\n",
       "        vertical-align: middle;\n",
       "    }\n",
       "\n",
       "    .dataframe tbody tr th {\n",
       "        vertical-align: top;\n",
       "    }\n",
       "\n",
       "    .dataframe thead th {\n",
       "        text-align: right;\n",
       "    }\n",
       "</style>\n",
       "<table border=\"1\" class=\"dataframe\">\n",
       "  <thead>\n",
       "    <tr style=\"text-align: right;\">\n",
       "      <th></th>\n",
       "      <th>Country</th>\n",
       "      <th>City</th>\n",
       "      <th>AQI Value</th>\n",
       "      <th>AQI Category</th>\n",
       "      <th>CO AQI Value</th>\n",
       "      <th>CO AQI Category</th>\n",
       "      <th>Ozone AQI Value</th>\n",
       "      <th>Ozone AQI Category</th>\n",
       "      <th>NO2 AQI Value</th>\n",
       "      <th>NO2 AQI Category</th>\n",
       "      <th>...</th>\n",
       "      <th>City_Zvishavane</th>\n",
       "      <th>City_Zvolen</th>\n",
       "      <th>City_Zwedru</th>\n",
       "      <th>City_Zwettl</th>\n",
       "      <th>City_Zwevegem</th>\n",
       "      <th>City_Zwickau</th>\n",
       "      <th>City_Zwiesel</th>\n",
       "      <th>City_Zwijndrecht</th>\n",
       "      <th>City_Zwolle</th>\n",
       "      <th>City_Zyryanovsk</th>\n",
       "    </tr>\n",
       "  </thead>\n",
       "  <tbody>\n",
       "    <tr>\n",
       "      <th>0</th>\n",
       "      <td>Russian Federation</td>\n",
       "      <td>Praskoveya</td>\n",
       "      <td>51</td>\n",
       "      <td>Moderate</td>\n",
       "      <td>1</td>\n",
       "      <td>Good</td>\n",
       "      <td>36</td>\n",
       "      <td>Good</td>\n",
       "      <td>0</td>\n",
       "      <td>Good</td>\n",
       "      <td>...</td>\n",
       "      <td>0</td>\n",
       "      <td>0</td>\n",
       "      <td>0</td>\n",
       "      <td>0</td>\n",
       "      <td>0</td>\n",
       "      <td>0</td>\n",
       "      <td>0</td>\n",
       "      <td>0</td>\n",
       "      <td>0</td>\n",
       "      <td>0</td>\n",
       "    </tr>\n",
       "    <tr>\n",
       "      <th>1</th>\n",
       "      <td>Brazil</td>\n",
       "      <td>Presidente Dutra</td>\n",
       "      <td>41</td>\n",
       "      <td>Good</td>\n",
       "      <td>1</td>\n",
       "      <td>Good</td>\n",
       "      <td>5</td>\n",
       "      <td>Good</td>\n",
       "      <td>1</td>\n",
       "      <td>Good</td>\n",
       "      <td>...</td>\n",
       "      <td>0</td>\n",
       "      <td>0</td>\n",
       "      <td>0</td>\n",
       "      <td>0</td>\n",
       "      <td>0</td>\n",
       "      <td>0</td>\n",
       "      <td>0</td>\n",
       "      <td>0</td>\n",
       "      <td>0</td>\n",
       "      <td>0</td>\n",
       "    </tr>\n",
       "    <tr>\n",
       "      <th>2</th>\n",
       "      <td>Brazil</td>\n",
       "      <td>Presidente Dutra</td>\n",
       "      <td>41</td>\n",
       "      <td>Good</td>\n",
       "      <td>1</td>\n",
       "      <td>Good</td>\n",
       "      <td>5</td>\n",
       "      <td>Good</td>\n",
       "      <td>1</td>\n",
       "      <td>Good</td>\n",
       "      <td>...</td>\n",
       "      <td>0</td>\n",
       "      <td>0</td>\n",
       "      <td>0</td>\n",
       "      <td>0</td>\n",
       "      <td>0</td>\n",
       "      <td>0</td>\n",
       "      <td>0</td>\n",
       "      <td>0</td>\n",
       "      <td>0</td>\n",
       "      <td>0</td>\n",
       "    </tr>\n",
       "    <tr>\n",
       "      <th>3</th>\n",
       "      <td>Italy</td>\n",
       "      <td>Priolo Gargallo</td>\n",
       "      <td>66</td>\n",
       "      <td>Moderate</td>\n",
       "      <td>1</td>\n",
       "      <td>Good</td>\n",
       "      <td>39</td>\n",
       "      <td>Good</td>\n",
       "      <td>2</td>\n",
       "      <td>Good</td>\n",
       "      <td>...</td>\n",
       "      <td>0</td>\n",
       "      <td>0</td>\n",
       "      <td>0</td>\n",
       "      <td>0</td>\n",
       "      <td>0</td>\n",
       "      <td>0</td>\n",
       "      <td>0</td>\n",
       "      <td>0</td>\n",
       "      <td>0</td>\n",
       "      <td>0</td>\n",
       "    </tr>\n",
       "    <tr>\n",
       "      <th>4</th>\n",
       "      <td>Poland</td>\n",
       "      <td>Przasnysz</td>\n",
       "      <td>34</td>\n",
       "      <td>Good</td>\n",
       "      <td>1</td>\n",
       "      <td>Good</td>\n",
       "      <td>34</td>\n",
       "      <td>Good</td>\n",
       "      <td>0</td>\n",
       "      <td>Good</td>\n",
       "      <td>...</td>\n",
       "      <td>0</td>\n",
       "      <td>0</td>\n",
       "      <td>0</td>\n",
       "      <td>0</td>\n",
       "      <td>0</td>\n",
       "      <td>0</td>\n",
       "      <td>0</td>\n",
       "      <td>0</td>\n",
       "      <td>0</td>\n",
       "      <td>0</td>\n",
       "    </tr>\n",
       "    <tr>\n",
       "      <th>...</th>\n",
       "      <td>...</td>\n",
       "      <td>...</td>\n",
       "      <td>...</td>\n",
       "      <td>...</td>\n",
       "      <td>...</td>\n",
       "      <td>...</td>\n",
       "      <td>...</td>\n",
       "      <td>...</td>\n",
       "      <td>...</td>\n",
       "      <td>...</td>\n",
       "      <td>...</td>\n",
       "      <td>...</td>\n",
       "      <td>...</td>\n",
       "      <td>...</td>\n",
       "      <td>...</td>\n",
       "      <td>...</td>\n",
       "      <td>...</td>\n",
       "      <td>...</td>\n",
       "      <td>...</td>\n",
       "      <td>...</td>\n",
       "      <td>...</td>\n",
       "    </tr>\n",
       "    <tr>\n",
       "      <th>16690</th>\n",
       "      <td>United States of America</td>\n",
       "      <td>Highland Springs</td>\n",
       "      <td>54</td>\n",
       "      <td>Moderate</td>\n",
       "      <td>1</td>\n",
       "      <td>Good</td>\n",
       "      <td>34</td>\n",
       "      <td>Good</td>\n",
       "      <td>5</td>\n",
       "      <td>Good</td>\n",
       "      <td>...</td>\n",
       "      <td>0</td>\n",
       "      <td>0</td>\n",
       "      <td>0</td>\n",
       "      <td>0</td>\n",
       "      <td>0</td>\n",
       "      <td>0</td>\n",
       "      <td>0</td>\n",
       "      <td>0</td>\n",
       "      <td>0</td>\n",
       "      <td>0</td>\n",
       "    </tr>\n",
       "    <tr>\n",
       "      <th>16691</th>\n",
       "      <td>Slovakia</td>\n",
       "      <td>Martin</td>\n",
       "      <td>71</td>\n",
       "      <td>Moderate</td>\n",
       "      <td>1</td>\n",
       "      <td>Good</td>\n",
       "      <td>39</td>\n",
       "      <td>Good</td>\n",
       "      <td>1</td>\n",
       "      <td>Good</td>\n",
       "      <td>...</td>\n",
       "      <td>0</td>\n",
       "      <td>0</td>\n",
       "      <td>0</td>\n",
       "      <td>0</td>\n",
       "      <td>0</td>\n",
       "      <td>0</td>\n",
       "      <td>0</td>\n",
       "      <td>0</td>\n",
       "      <td>0</td>\n",
       "      <td>0</td>\n",
       "    </tr>\n",
       "    <tr>\n",
       "      <th>16692</th>\n",
       "      <td>Slovakia</td>\n",
       "      <td>Martin</td>\n",
       "      <td>71</td>\n",
       "      <td>Moderate</td>\n",
       "      <td>1</td>\n",
       "      <td>Good</td>\n",
       "      <td>39</td>\n",
       "      <td>Good</td>\n",
       "      <td>1</td>\n",
       "      <td>Good</td>\n",
       "      <td>...</td>\n",
       "      <td>0</td>\n",
       "      <td>0</td>\n",
       "      <td>0</td>\n",
       "      <td>0</td>\n",
       "      <td>0</td>\n",
       "      <td>0</td>\n",
       "      <td>0</td>\n",
       "      <td>0</td>\n",
       "      <td>0</td>\n",
       "      <td>0</td>\n",
       "    </tr>\n",
       "    <tr>\n",
       "      <th>16693</th>\n",
       "      <td>France</td>\n",
       "      <td>Sceaux</td>\n",
       "      <td>50</td>\n",
       "      <td>Good</td>\n",
       "      <td>1</td>\n",
       "      <td>Good</td>\n",
       "      <td>20</td>\n",
       "      <td>Good</td>\n",
       "      <td>5</td>\n",
       "      <td>Good</td>\n",
       "      <td>...</td>\n",
       "      <td>0</td>\n",
       "      <td>0</td>\n",
       "      <td>0</td>\n",
       "      <td>0</td>\n",
       "      <td>0</td>\n",
       "      <td>0</td>\n",
       "      <td>0</td>\n",
       "      <td>0</td>\n",
       "      <td>0</td>\n",
       "      <td>0</td>\n",
       "    </tr>\n",
       "    <tr>\n",
       "      <th>16694</th>\n",
       "      <td>United States of America</td>\n",
       "      <td>Westerville</td>\n",
       "      <td>71</td>\n",
       "      <td>Moderate</td>\n",
       "      <td>1</td>\n",
       "      <td>Good</td>\n",
       "      <td>44</td>\n",
       "      <td>Good</td>\n",
       "      <td>2</td>\n",
       "      <td>Good</td>\n",
       "      <td>...</td>\n",
       "      <td>0</td>\n",
       "      <td>0</td>\n",
       "      <td>0</td>\n",
       "      <td>0</td>\n",
       "      <td>0</td>\n",
       "      <td>0</td>\n",
       "      <td>0</td>\n",
       "      <td>0</td>\n",
       "      <td>0</td>\n",
       "      <td>0</td>\n",
       "    </tr>\n",
       "  </tbody>\n",
       "</table>\n",
       "<p>16695 rows × 14243 columns</p>\n",
       "</div>"
      ],
      "text/plain": [
       "                        Country              City  AQI Value AQI Category  \\\n",
       "0            Russian Federation        Praskoveya         51     Moderate   \n",
       "1                        Brazil  Presidente Dutra         41         Good   \n",
       "2                        Brazil  Presidente Dutra         41         Good   \n",
       "3                         Italy   Priolo Gargallo         66     Moderate   \n",
       "4                        Poland         Przasnysz         34         Good   \n",
       "...                         ...               ...        ...          ...   \n",
       "16690  United States of America  Highland Springs         54     Moderate   \n",
       "16691                  Slovakia            Martin         71     Moderate   \n",
       "16692                  Slovakia            Martin         71     Moderate   \n",
       "16693                    France            Sceaux         50         Good   \n",
       "16694  United States of America       Westerville         71     Moderate   \n",
       "\n",
       "       CO AQI Value CO AQI Category  Ozone AQI Value Ozone AQI Category  \\\n",
       "0                 1            Good               36               Good   \n",
       "1                 1            Good                5               Good   \n",
       "2                 1            Good                5               Good   \n",
       "3                 1            Good               39               Good   \n",
       "4                 1            Good               34               Good   \n",
       "...             ...             ...              ...                ...   \n",
       "16690             1            Good               34               Good   \n",
       "16691             1            Good               39               Good   \n",
       "16692             1            Good               39               Good   \n",
       "16693             1            Good               20               Good   \n",
       "16694             1            Good               44               Good   \n",
       "\n",
       "       NO2 AQI Value NO2 AQI Category  ...  City_Zvishavane City_Zvolen  \\\n",
       "0                  0             Good  ...                0           0   \n",
       "1                  1             Good  ...                0           0   \n",
       "2                  1             Good  ...                0           0   \n",
       "3                  2             Good  ...                0           0   \n",
       "4                  0             Good  ...                0           0   \n",
       "...              ...              ...  ...              ...         ...   \n",
       "16690              5             Good  ...                0           0   \n",
       "16691              1             Good  ...                0           0   \n",
       "16692              1             Good  ...                0           0   \n",
       "16693              5             Good  ...                0           0   \n",
       "16694              2             Good  ...                0           0   \n",
       "\n",
       "       City_Zwedru  City_Zwettl  City_Zwevegem  City_Zwickau  City_Zwiesel  \\\n",
       "0                0            0              0             0             0   \n",
       "1                0            0              0             0             0   \n",
       "2                0            0              0             0             0   \n",
       "3                0            0              0             0             0   \n",
       "4                0            0              0             0             0   \n",
       "...            ...          ...            ...           ...           ...   \n",
       "16690            0            0              0             0             0   \n",
       "16691            0            0              0             0             0   \n",
       "16692            0            0              0             0             0   \n",
       "16693            0            0              0             0             0   \n",
       "16694            0            0              0             0             0   \n",
       "\n",
       "       City_Zwijndrecht  City_Zwolle  City_Zyryanovsk  \n",
       "0                     0            0                0  \n",
       "1                     0            0                0  \n",
       "2                     0            0                0  \n",
       "3                     0            0                0  \n",
       "4                     0            0                0  \n",
       "...                 ...          ...              ...  \n",
       "16690                 0            0                0  \n",
       "16691                 0            0                0  \n",
       "16692                 0            0                0  \n",
       "16693                 0            0                0  \n",
       "16694                 0            0                0  \n",
       "\n",
       "[16695 rows x 14243 columns]"
      ]
     },
     "execution_count": 25,
     "metadata": {},
     "output_type": "execute_result"
    }
   ],
   "source": [
    "df_Hot"
   ]
  }
 ],
 "metadata": {
  "interpreter": {
   "hash": "dc0160a9786a1d4c1ea9ff2348dcf22c4a3599c76608ef78f8172c12b1149eb1"
  },
  "kernelspec": {
   "display_name": "Python 3.10.7 64-bit",
   "language": "python",
   "name": "python3"
  },
  "language_info": {
   "codemirror_mode": {
    "name": "ipython",
    "version": 3
   },
   "file_extension": ".py",
   "mimetype": "text/x-python",
   "name": "python",
   "nbconvert_exporter": "python",
   "pygments_lexer": "ipython3",
   "version": "3.10.7"
  },
  "orig_nbformat": 4
 },
 "nbformat": 4,
 "nbformat_minor": 2
}
